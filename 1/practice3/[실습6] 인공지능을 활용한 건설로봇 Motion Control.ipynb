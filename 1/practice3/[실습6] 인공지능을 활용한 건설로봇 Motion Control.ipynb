{
 "cells": [
  {
   "attachments": {},
   "cell_type": "markdown",
   "metadata": {},
   "source": [
    "# [실습6] 인공지능을 활용한 건설로봇 Motion Control (정답)\n",
    "---"
   ]
  },
  {
   "attachments": {},
   "cell_type": "markdown",
   "metadata": {},
   "source": [
    "## 실습 목표\n",
    "\n",
    "- Gymnasium 라이브러리를 사용하는 방법을 학습합니다.\n",
    "- Inverted pendulum, Cartpole 환경을 사용하는 방법을 학습합니다.\n",
    "- 고전적인 제어기로 비선형 모델들을 제어해봅니다.\n",
    "- 강화학습 알고리즘을 직접 구현해보고 학습시켜봅니다.\n",
    "- 여러가지 강화학습 알고리즘과 성능을 비교해봅니다.\n",
    "\n",
    "---"
   ]
  },
  {
   "attachments": {},
   "cell_type": "markdown",
   "metadata": {},
   "source": [
    "## 실습 목차\n",
    "\n",
    "1. **Gymnasium 라이브러리 사용하기** \n",
    "\n",
    "2. **고전 제어기로 비선형 모델 제어** \n",
    "\n",
    "3. **모델 기반 제어기로 비선형 모델 제어**\n",
    "\n",
    "4. **Reinforce 강화학습 알고리즘 적용** \n",
    "\n",
    "5. **Actor-Critic 강화학습 알고리즘 적용** \n",
    "\n",
    "6. **A2C 강화학습 알고리즘 적용**\n",
    "---"
   ]
  },
  {
   "attachments": {},
   "cell_type": "markdown",
   "metadata": {},
   "source": [
    "## 실습 개요\n",
    "\n",
    "이번 실습에서는 여러가지 강화학습 알고리즘을 직접 구현하고 학습하는 것을 목표로 합니다. 이를 위해 Gymnasium 라이브러리를 사용하는 방법을 학습합니다.\n",
    "\n",
    "---"
   ]
  },
  {
   "attachments": {},
   "cell_type": "markdown",
   "metadata": {},
   "source": [
    "## 1. Gymnasium 라이브러리 사용하기"
   ]
  },
  {
   "attachments": {},
   "cell_type": "markdown",
   "metadata": {},
   "source": [
    "---\n",
    "\n",
    "### 1.1 필수 라이브러리 불러오기\n",
    "강화학습 알고리즘을 학습하고 테스트해보기 위해 여러 가지 시뮬레이션을 사용할 수 있습니다.\n",
    "\n",
    "그 중, 가장 간단하고 추가적인 엔진 설치가 필요 없는 Gymnasium 라이브러리를 소개합니다.\n",
    "\n",
    "Gymnasium은 시뮬레이터와 연동시켜 강화학습 알고리즘을 학습시키기 위한 기본적인 라이브러리입니다. 하지만, 추가적인 시뮬레이터가 없더라도, 기본적으로 Gymnasium 내부에서 제공하고 있는 간단한 시뮬레이션들이 있습니다. \n",
    "\n",
    "이번 실습에서는 Inverted Pendulum과 Cartpole 모델을 사용하겠습니다. 이 두 비선형 모델은 강화학습 뿐만 아니라 대부분의 로봇 제어기의 벤치마크로 활용되는 대표적인 모델들입니다."
   ]
  },
  {
   "cell_type": "code",
   "execution_count": null,
   "metadata": {},
   "outputs": [],
   "source": [
    "## 라이브러리 불러오기\n",
    "import numpy as np\n",
    "import pandas as pd\n",
    "import matplotlib.pyplot as plt \n",
    "import gymnasium as gym\n",
    "from IPython import display\n",
    "\n",
    "random_seed = 42\n",
    "np.random.seed(random_seed)\n"
   ]
  },
  {
   "cell_type": "markdown",
   "metadata": {},
   "source": [
    "---\n",
    "### 1.2 Inverted Pendulum 모델 사용하기\n",
    "Inverted Pendulum 모델과 상호작용 하는 방법을 소개합니다."
   ]
  },
  {
   "cell_type": "markdown",
   "metadata": {},
   "source": [
    "Jupyter notebook 환경에서 Gymnasium의 상호작용 시각화 윈도우를 확인하려면 별도의 코드를 사용해야 합니다. IPython의 display 기능을 사용할 수 있도록 함수를 작성합니다."
   ]
  },
  {
   "cell_type": "code",
   "execution_count": null,
   "metadata": {},
   "outputs": [],
   "source": [
    "def render_env(env):\n",
    "    plt.figure(figsize=(5, 5))\n",
    "    plt.imshow(env.render())\n",
    "    plt.axis('off')\n",
    "    display.display(plt.gcf())\n",
    "    display.clear_output(wait=True)\n",
    "    plt.close()"
   ]
  },
  {
   "cell_type": "markdown",
   "metadata": {},
   "source": [
    "상호작용할 수 있는 시뮬레이션을 환경(env)라고 합니다. 라이브러리 내에 내장되어 있는 invertd pendulum 모델을 불러옵니다.\n",
    "\n",
    "Env를 설정하면 로봇의 모델(동역학), 센서(observation), 제어기(action_space)등이 결정됩니다."
   ]
  },
  {
   "cell_type": "code",
   "execution_count": null,
   "metadata": {},
   "outputs": [],
   "source": [
    "env = gym.make('Pendulum-v1', render_mode=\"rgb_array\")\n",
    "\n",
    "print(\"Observation Space:\", env.observation_space)\n",
    "print(\"Action Space:\", env.action_space)"
   ]
  },
  {
   "cell_type": "markdown",
   "metadata": {},
   "source": [
    "설정된 환경을 시각화해봅니다."
   ]
  },
  {
   "cell_type": "code",
   "execution_count": null,
   "metadata": {},
   "outputs": [],
   "source": [
    "observation = env.reset(seed=random_seed)\n",
    "render_env(env)"
   ]
  },
  {
   "cell_type": "markdown",
   "metadata": {},
   "source": [
    "환경에 제어 입력을 가해보겠습니다. 랜덤한 제어 입력을 샘플한 후, 이를 환경에 가해봅니다.\n",
    "\n",
    "동역학에 제어 입력이 입력된 후, 다음 로봇 상태가 계산됩니다. \n",
    "\n",
    "연속된 동작을 확인하기 위해 100 번의 제어 입력을 가해보겠습니다."
   ]
  },
  {
   "cell_type": "code",
   "execution_count": null,
   "metadata": {},
   "outputs": [],
   "source": [
    "for _ in range(100):\n",
    "    action = env.action_space.sample()  # Random action for demonstration\n",
    "    observation, reward, terminated, truncated, info = env.step(action)\n",
    "    render_env(env)\n",
    "    if terminated or truncated:\n",
    "        observation = env.reset(seed=random_seed)"
   ]
  },
  {
   "cell_type": "markdown",
   "metadata": {},
   "source": [
    "---\n",
    "### 1.3 Cartpole 모델 사용하기\n",
    "Cartpole 모델과 상호작용 하는 방법을 소개합니다. 기본적인 방법은 동일합니다."
   ]
  },
  {
   "cell_type": "code",
   "execution_count": null,
   "metadata": {},
   "outputs": [],
   "source": [
    "env = gym.make('CartPole-v1', render_mode=\"rgb_array\")\n",
    "\n",
    "print(\"Observation Space:\", env.observation_space)\n",
    "print(\"Action Space:\", env.action_space)"
   ]
  },
  {
   "cell_type": "code",
   "execution_count": null,
   "metadata": {},
   "outputs": [],
   "source": [
    "observation = env.reset(seed=random_seed)\n",
    "render_env(env)"
   ]
  },
  {
   "cell_type": "markdown",
   "metadata": {},
   "source": [
    "### [TODO] 설정한 환경 env를 한 스텝 실행해보세요. 한 스텝을 진행하기 위해서는 제어 입력을 인자로 넣어줘야 합니다."
   ]
  },
  {
   "cell_type": "code",
   "execution_count": null,
   "metadata": {},
   "outputs": [],
   "source": [
    "for _ in range(100):\n",
    "    action = env.action_space.sample()  # Random action for demonstration\n",
    "    observation, reward, terminated, truncated, info = None\n",
    "    render_env(env)\n",
    "    if terminated or truncated:\n",
    "        observation = env.reset(seed=random_seed)"
   ]
  },
  {
   "cell_type": "markdown",
   "metadata": {},
   "source": [
    "Cartpole은 가운대의 막대가 떨어지면 실패로 간주합니다. 실패를 하더라도 환경을 리셋하지 않게하면 보다 연속된 동작을 볼 수 있습니다."
   ]
  },
  {
   "cell_type": "code",
   "execution_count": null,
   "metadata": {},
   "outputs": [],
   "source": [
    "for _ in range(100):\n",
    "    action = env.action_space.sample()  # Random action for demonstration\n",
    "    observation, reward, terminated, truncated, info = env.step(action)\n",
    "    render_env(env)"
   ]
  },
  {
   "cell_type": "markdown",
   "metadata": {},
   "source": [
    "---\n",
    "## 2. 고전 제어기로 비선형 모델 제어\n",
    "\n",
    "---\n",
    "### 2.1 고전 제어기 설계\n",
    "강화학습 실습에 들어가기 앞서, 고전 제어기의 한계점을 분석해보겠습니다.\n",
    "\n",
    "고전 제어기는 일반적으로 목표하는 desired state와 현재 상태 current state의 차이를 에러로 정의합니다. 그 에러를 최소화하는 것을 제어기의 목표로 설정합니다.\n",
    "\n",
    "고전 제어기는 PID, LQR, SMC 등 많은 방법들이 연구되어 왔습니다.\n",
    "\n",
    "가장 간단한 불연속한 제어기부터 설계해보겠습니다.\n"
   ]
  },
  {
   "cell_type": "code",
   "execution_count": null,
   "metadata": {},
   "outputs": [],
   "source": [
    "\n",
    "# Create the Pendulum environments\n",
    "env_pendulum = gym.make('Pendulum-v1', render_mode='rgb_array')\n",
    "obs = env_pendulum.reset(seed=random_seed)[0]\n",
    "num_steps = 200\n",
    "\n",
    "# Simple controller for Pendulum\n",
    "def simple_controller_pendulum(obs, max_torque=2.0):\n",
    "    # observation에서 theta를 추출\n",
    "    cos_theta = obs[0]\n",
    "    sin_theta = obs[1]\n",
    "    theta = np.arctan2(sin_theta, cos_theta)\n",
    "\n",
    "    if theta > 0.0:\n",
    "        # pendulum이 왼쪽에 있을 때, 시계 방향으로 힘을 가함\n",
    "        action = [-max_torque]\n",
    "    else:\n",
    "        # pendulum이 오른쪽에 있을 때, 반시계 방향으로 힘을 가함\n",
    "        action = [max_torque]\n",
    "    return action\n",
    "\n",
    "episode_reward = 0\n",
    "for step in range(num_steps):\n",
    "    action = simple_controller_pendulum(obs, max_torque=1.0)\n",
    "\n",
    "    obs, reward, terminated, truncated, info = env_pendulum.step(action)\n",
    "    episode_reward += reward\n",
    "\n",
    "    render_env(env_pendulum)\n",
    "\n",
    "env_pendulum.close()\n"
   ]
  },
  {
   "cell_type": "markdown",
   "metadata": {},
   "source": [
    "간단한 논리로 만든 제어기는 최대 토크가 1일 때는 전혀 작동하지 않는 것을 확인할 수 있습니다.\n",
    "\n",
    "환경에서 허용하는 최대 토크는 2입니다. 2를 가하면 중력의 도움없이도 강제로 막대를 제어할 수 있습니다."
   ]
  },
  {
   "cell_type": "code",
   "execution_count": null,
   "metadata": {},
   "outputs": [],
   "source": [
    "obs = env_pendulum.reset(seed=random_seed)[0]\n",
    "num_steps = 200\n",
    "\n",
    "episode_reward = 0\n",
    "for step in range(num_steps):\n",
    "    action = simple_controller_pendulum(obs, max_torque=2.0)\n",
    "\n",
    "    obs, reward, terminated, truncated, info = env_pendulum.step(action)\n",
    "    episode_reward += reward\n",
    "\n",
    "    render_env(env_pendulum)\n",
    "\n",
    "env_pendulum.close()"
   ]
  },
  {
   "cell_type": "markdown",
   "metadata": {},
   "source": [
    "\n",
    "\n",
    "---\n",
    "### 2.2 PID 제어기 설계\n",
    "\n",
    "다음은 PID 제어기를 설계해보겠습니다."
   ]
  },
  {
   "cell_type": "code",
   "execution_count": null,
   "metadata": {},
   "outputs": [],
   "source": [
    "class PIDController:\n",
    "    def __init__(self, Kp, Ki, Kd):\n",
    "        self.Kp = Kp\n",
    "        self.Ki = Ki\n",
    "        self.Kd = Kd\n",
    "        self.integral = 0\n",
    "        self.previous_error = 0\n",
    "\n",
    "    def reset(self):\n",
    "        self.integral = 0\n",
    "        self.previous_error = 0\n",
    "\n",
    "    def compute(self, error, dt):\n",
    "        self.integral += error * dt\n",
    "        derivative = (error - self.previous_error) / dt\n",
    "        output = self.Kp * error + self.Ki * self.integral + self.Kd * derivative\n",
    "        self.previous_error = error\n",
    "        return output"
   ]
  },
  {
   "cell_type": "markdown",
   "metadata": {},
   "source": [
    "PID 게인을 설정합니다.\n",
    "\n",
    "### [TODO] PID 게인을 설정합니다. P,I,D 게인을 각각 5.0, 0.01, 0.5 로 설정합니다."
   ]
  },
  {
   "cell_type": "code",
   "execution_count": null,
   "metadata": {},
   "outputs": [],
   "source": [
    "# PID parameters\n",
    "None\n",
    "None\n",
    "None\n",
    "\n",
    "# Create the PID controller\n",
    "pid = PIDController(Kp, Ki, Kd)"
   ]
  },
  {
   "cell_type": "code",
   "execution_count": null,
   "metadata": {},
   "outputs": [],
   "source": [
    "\n",
    "# Create the Pendulum environments\n",
    "env_pendulum = gym.make('Pendulum-v1', render_mode='rgb_array')\n",
    "obs = env_pendulum.reset(seed=random_seed)[0]\n",
    "num_steps = 200\n",
    "\n",
    "\n",
    "def pid_controller_pendulum(obs, pid, target_theta=0, dt=0.02, max_torque=2.0):\n",
    "    # observation에서 theta를 추출\n",
    "    cos_theta = obs[0]\n",
    "    sin_theta = obs[1]\n",
    "    theta = np.arctan2(sin_theta, cos_theta)\n",
    "\n",
    "    error = target_theta - theta\n",
    "    torque = pid.compute(error, dt)\n",
    "    return [np.clip(torque, -max_torque, max_torque)] \n",
    "\n",
    "\n",
    "episode_reward = 0\n",
    "for step in range(num_steps):\n",
    "    # Get the action from the simple controller\n",
    "    action = pid_controller_pendulum(obs, pid, max_torque=1.0)\n",
    "\n",
    "    # Take a step in the environment\n",
    "    obs, reward, terminated, truncated, info = env_pendulum.step(action)\n",
    "    episode_reward += reward\n",
    "\n",
    "    # Render the environment\n",
    "    render_env(env_pendulum)\n",
    "\n",
    "    #print(f\"Step {step+1}: Reward = {episode_reward:.2f}\")\n",
    "\n",
    "# Close the Pendulum environment\n",
    "env_pendulum.close()\n"
   ]
  },
  {
   "cell_type": "markdown",
   "metadata": {},
   "source": [
    "PID 제어기는 모델을 사용하지 않는 제어기입니다. 따라서, 비선형 모델일 경우 성능이 좋지 않습니다.\n",
    "\n",
    "PID가 좋은 성능을 발휘할 때는 모델이 선형에 가까운 경우, 즉 이 환경에서는 막대가 이미 안정점 근처에 있는 경우입니다.\n",
    "\n",
    "Gymnasium에서는 초기 상태를 설정하는 것이 불가능합니다. 위의 코드를 여러번 실행하면 PID가 제어에 성공하는 케이스를 확인할 수 있습니다."
   ]
  },
  {
   "cell_type": "markdown",
   "metadata": {},
   "source": [
    "---\n",
    "## 3. 모델 기반 제어기로 비선형 모델 제어\n",
    "\n",
    "---\n",
    "### 3.1 모델 기반 제어기 소개\n",
    "고전 제어기의 한계는 모델을 고려하지 않기 때문에 비선형 모델에서 좋은 제어 성능을 발휘할 수 없다는 것입니다.\n",
    "\n",
    "이번에는 모델을 사용하는 현대 제어기를 사용해보겠습니다.\n",
    "\n",
    "현대 제어기 중 실제로 가장 많이 사용되는 제어기는 MPC 기반의 제어기들입니다.\n",
    "\n",
    "MPC는 모델을 이용하여 미래에 모델이 어떻게 움직이는지 분석하여 최적화를 수행합니다. 따라서 비선형 모델을 효과적으로 제어할 수 있습니다.\n",
    "\n",
    "기울기 기반의 MPC인 iLQR, DDP가 잘 알려져있습니다. 기울기 기반의 MPC보다 더 빠르게 최적화를 수행할 수 있는 샘플링 기반 MPC를 실습으로 사용해보겠습니다.\n",
    "\n",
    "Model Predictive Path Integral Control (MPPI) 제어기는 여러개의 제어입력 궤적을 샘플링하여 동시에 궤적을 계산합니다. 이를 통해 최적의 제어입력을 계산할 수 있습니다. 이때, 여러개의 궤적을 GPU로 동시에 시뮬레이션할 수 있기 때문에, 실시간으로 복잡한 모델을 제어할 수 있는 강력한 제어기로 알려져있습니다.\n",
    "\n",
    "본 실습에서는 100개의 적은 궤적만 사용하므로 cpu로 진행해보겠습니다.\n"
   ]
  },
  {
   "cell_type": "code",
   "execution_count": null,
   "metadata": {},
   "outputs": [],
   "source": [
    "from pytorch_mppi import MPPI\n",
    "import torch\n",
    "import math\n",
    "\n",
    "torch.manual_seed(random_seed)\n",
    "\n",
    "TIMESTEPS = 15  # 예측할 미래 궤적의 시간 수\n",
    "N_SAMPLES = 100  # 동시에 샘플링할 궤적 수\n",
    "ACTION_LOW = -1.0\n",
    "ACTION_HIGH = 1.0\n",
    "\n",
    "d = \"cpu\"\n",
    "dtype = torch.double\n",
    "nx = 2\n",
    "\n",
    "noise_sigma = torch.tensor(10, device=d, dtype=dtype)\n",
    "# noise_sigma = torch.tensor([[10, 0], [0, 10]], device=d, dtype=dtype)\n",
    "lambda_ = 1.\n",
    "\n",
    "# pendulum의 동역학\n",
    "def dynamics(state, perturbed_action):\n",
    "        # true dynamics from gym\n",
    "        th = state[:, 0].view(-1, 1)\n",
    "        thdot = state[:, 1].view(-1, 1)\n",
    "\n",
    "        g = 10\n",
    "        m = 1\n",
    "        l = 1\n",
    "        dt = 0.05\n",
    "\n",
    "        u = perturbed_action\n",
    "        u = torch.clamp(u, -2, 2)\n",
    "\n",
    "        newthdot = thdot + (3 * g / (2 * l) * np.sin(th) + 3.0 / (m * l ** 2) * u) * dt\n",
    "        newthdot = np.clip(newthdot, -8, 8)\n",
    "        newth = th + newthdot * dt\n",
    "\n",
    "        state = torch.cat((newth, newthdot), dim=1)\n",
    "        return state\n",
    "\n",
    "def angle_normalize(x):\n",
    "    return (((x + math.pi) % (2 * math.pi)) - math.pi)\n",
    "\n",
    "\n",
    "def running_cost(state, action):\n",
    "    theta = state[:, 0]\n",
    "    theta_dt = state[:, 1]\n",
    "    action = action[:, 0]\n",
    "    cost = angle_normalize(theta) ** 2 + 0.1 * theta_dt ** 2\n",
    "    return cost\n",
    "\n",
    "\n",
    "# create controller with chosen parameters\n",
    "ctrl = MPPI(dynamics, running_cost, nx, noise_sigma, num_samples=N_SAMPLES, horizon=TIMESTEPS,\n",
    "            lambda_=lambda_, device=d,\n",
    "            u_min=torch.tensor(ACTION_LOW, dtype=torch.double, device=d),\n",
    "            u_max=torch.tensor(ACTION_HIGH, dtype=torch.double, device=d))\n"
   ]
  },
  {
   "cell_type": "markdown",
   "metadata": {},
   "source": [
    "\n",
    "---\n",
    "### 3.2 Inverted Pendulum 모델에 적용\n",
    "pendulum 모델에 적용해보겠습니다."
   ]
  },
  {
   "cell_type": "code",
   "execution_count": null,
   "metadata": {},
   "outputs": [],
   "source": [
    "# Create the Pendulum environments\n",
    "env_pendulum = gym.make('Pendulum-v1', render_mode='rgb_array')\n",
    "obs = env_pendulum.reset(seed=random_seed)[0]\n",
    "num_steps = 200\n",
    "\n",
    "episode_reward = 0\n",
    "for step in range(num_steps):\n",
    "    # observation에서 theta를 추출\n",
    "    cos_theta = obs[0]\n",
    "    sin_theta = obs[1]\n",
    "    theta = np.arctan2(sin_theta, cos_theta)\n",
    "    obs = np.array([[theta, obs[2]]])\n",
    "\n",
    "    action = ctrl.command(obs)\n",
    "    action = action.cpu().numpy()\n",
    "\n",
    "    # Take a step in the environment\n",
    "    obs, reward, terminated, truncated, info = env_pendulum.step(action)\n",
    "    episode_reward += reward\n",
    "\n",
    "    # Render the environment\n",
    "    render_env(env_pendulum)\n",
    "\n",
    "    #print(f\"Step {step+1}: Reward = {episode_reward:.2f}\")\n",
    "\n",
    "# Close the Pendulum environment\n",
    "env_pendulum.close()"
   ]
  },
  {
   "cell_type": "markdown",
   "metadata": {},
   "source": [
    "최대 제어 토크를 1로 설정해도, 중력을 이용해 막대를 스윙하며 제어에 성공하는 것을 볼 수 있습니다.\n",
    "\n",
    "모델 기반 제어기와 달리, 시스템의 모델을 몰라도 제어가 가능한 강화학습 알고리즘들이 주목을 받고 있습니다.\n",
    "\n",
    "또, 데이터가 충분하다면, 모델이 불확실하고 시간에 따라 변하는 상황에서도 강건하게 제어를 할 수 있습니다.\n",
    "\n",
    "그리고 제어 입력이 이산화되어도 효과적으로 제어를 할 수 있다고 알려져있습니다. 이를 실습을 통해 알아보겠습니다."
   ]
  },
  {
   "cell_type": "markdown",
   "metadata": {},
   "source": [
    "---\n",
    "## 4. Reinforce 강화학습 알고리즘 적용\n",
    "\n",
    "---\n",
    "### 4.1 Reinforce 알고리즘 구현\n",
    "Reinforce 알고리즘은 강화학습의 가장 기본이 되는 알고리즘입니다.\n",
    "\n",
    "강화학습에서 가장 기본으로 사용되는 라이브러리인 pytorch를 이용해 Reinforce 알고리즘을 구현해보겠습니다.\n",
    "\n",
    "Reinforce 알고리즘을 이용해 inverted pendulum 환경을 학습해보겠습니다.\n",
    "\n",
    "Reinforce는 가장 기초적인 알고리즘으로, 학습이 느리고 다양한 환경에서 잘 동작하지 않는다는 단점이 있습니다.\n",
    "\n",
    "Inverted pendulum 문제는 제어 공간이 연속적입니다. 연속적인 제어 공간을 다룰 수 있는 여러가지 강화학습 알고리즘들이 있습니다 (ddpg 등).\n",
    "\n",
    "이번 실습에서는 연속된 제어 공간을 위해 알고리즘을 수정하지 않고, Reinforce 알고리즘의 특성을 간접적으로 알아보겠습니다.\n",
    "\n",
    "제어 입력인 토크를 -1, 0, 1로 설정하고 알고리즘을 설계해보겠습니다. 따라서 모델의 출력층 크기는 3이 되어야 합니다."
   ]
  },
  {
   "cell_type": "code",
   "execution_count": null,
   "metadata": {},
   "outputs": [],
   "source": [
    "\n",
    "\n",
    "import torch.nn as nn\n",
    "import torch.nn.functional as F\n",
    "import torch.optim as optim\n",
    "from torch.distributions import Categorical\n",
    "\n",
    "#Hyperparameters\n",
    "learning_rate = 0.0008\n",
    "gamma         = 0.98\n",
    "\n",
    "class Policy(nn.Module):\n",
    "    def __init__(self):\n",
    "        super(Policy, self).__init__()\n",
    "        self.data = []\n",
    "        \n",
    "        self.fc1 = nn.Linear(3, 128)\n",
    "        self.fc2 = nn.Linear(128, 3)\n",
    "        self.optimizer = optim.Adam(self.parameters(), lr=learning_rate)\n",
    "        \n",
    "    def forward(self, x):\n",
    "        x = F.relu(self.fc1(x))\n",
    "        x = F.softmax(self.fc2(x), dim=0)\n",
    "        return x\n",
    "      \n",
    "    def put_data(self, item):\n",
    "        self.data.append(item)\n",
    "        \n",
    "    def train_net(self):\n",
    "        R = 0\n",
    "        self.optimizer.zero_grad()\n",
    "        for r, prob in self.data[::-1]:\n",
    "            R = r + gamma * R\n",
    "            loss = -torch.log(prob) * R\n",
    "            loss.backward()\n",
    "        self.optimizer.step()\n",
    "        self.data = []"
   ]
  },
  {
   "cell_type": "markdown",
   "metadata": {},
   "source": [
    "---\n",
    "### 4.2 Inverted pedulum 에 적용\n",
    "알고리즘을 이용해 학습해보겠습니다."
   ]
  },
  {
   "cell_type": "code",
   "execution_count": null,
   "metadata": {},
   "outputs": [],
   "source": [
    "env = gym.make('Pendulum-v1', render_mode='rgb_array')\n",
    "pi = Policy()\n",
    "score = 0.0\n",
    "print_interval = 20\n",
    "max_steps_per_episode = 200\n",
    "\n",
    "action_map = [-1, 0, 1]  # Define the action mapping\n",
    "\n",
    "for n_epi in range(5000):\n",
    "    s, _ = env.reset(seed=random_seed)\n",
    "    done = False\n",
    "    step_count = 0\n",
    "    \n",
    "    while not done and step_count < max_steps_per_episode: # CartPole-v1 forced to terminates at 500 step.\n",
    "\n",
    "        step_count += 1\n",
    "        prob = pi(torch.from_numpy(s).float())\n",
    "\n",
    "        m = Categorical(prob)\n",
    "        a = m.sample()\n",
    "        action = action_map[a.item()]\n",
    "\n",
    "        s_prime, r, done, truncated, info = env.step([action])\n",
    "        pi.put_data((r,prob[a]))\n",
    "        s = s_prime\n",
    "        score += r\n",
    "        \n",
    "    pi.train_net()\n",
    "    \n",
    "    if n_epi%print_interval==0 and n_epi!=0:\n",
    "        print(\"# of episode :{}, avg score : {}\".format(n_epi, score/print_interval))\n",
    "        score = 0.0\n",
    "env.close()"
   ]
  },
  {
   "cell_type": "markdown",
   "metadata": {},
   "source": [
    "학습이 완료된 모델을 불러와 다양한 초기조건에서 막대를 제어해보겠습니다."
   ]
  },
  {
   "cell_type": "code",
   "execution_count": null,
   "metadata": {},
   "outputs": [],
   "source": [
    "pi.eval()\n",
    "env_pendulum = gym.make('Pendulum-v1', render_mode='rgb_array')\n",
    "s, _ = env_pendulum.reset(seed=random_seed)\n",
    "\n",
    "num_steps = 200\n",
    "\n",
    "episode_reward = 0\n",
    "for step in range(num_steps):\n",
    "\n",
    "    prob = pi(torch.from_numpy(s).float())\n",
    "    a = prob.argmax().item()  # Select the action with the highest probability\n",
    "    s, r, done, truncated, info = env_pendulum.step([a])\n",
    "\n",
    "    # Render the environment\n",
    "    render_env(env_pendulum)\n",
    "\n",
    "# Close the Pendulum environment\n",
    "env_pendulum.close()"
   ]
  },
  {
   "cell_type": "markdown",
   "metadata": {},
   "source": [
    "제어 결과, 학습이 잘 이뤄지지 않은 것을 볼 수 있습니다.\n",
    "\n",
    "학습 iteration 수를 크게 늘리면 도움이 될 수 있지만, 다른 최신 강화학습 알고리즘을 사용하는 것이 더 합리적일 것입니다."
   ]
  },
  {
   "cell_type": "markdown",
   "metadata": {},
   "source": [
    "---\n",
    "### 4.3 Cartpole 에 적용\n",
    "Reinforce 알고리즘을 이용해 Cartpole 환경을 학습해보겠습니다.\n",
    "policy의 입력과 출력층을 cartpole에 맞게 변경합니다."
   ]
  },
  {
   "cell_type": "code",
   "execution_count": null,
   "metadata": {},
   "outputs": [],
   "source": [
    "\n",
    "#Hyperparameters\n",
    "learning_rate = 0.0002\n",
    "gamma         = 0.98\n",
    "\n",
    "class Policy(nn.Module):\n",
    "    def __init__(self):\n",
    "        super(Policy, self).__init__()\n",
    "        self.data = []\n",
    "        \n",
    "        self.fc1 = nn.Linear(4, 128)\n",
    "        self.fc2 = nn.Linear(128, 2)\n",
    "        self.optimizer = optim.Adam(self.parameters(), lr=learning_rate)\n",
    "        \n",
    "    def forward(self, x):\n",
    "        x = F.relu(self.fc1(x))\n",
    "        x = F.softmax(self.fc2(x), dim=0)\n",
    "        return x\n",
    "      \n",
    "    def put_data(self, item):\n",
    "        self.data.append(item)\n",
    "        \n",
    "    def train_net(self):\n",
    "        R = 0\n",
    "        self.optimizer.zero_grad()\n",
    "        for r, prob in self.data[::-1]:\n",
    "            R = r + gamma * R\n",
    "            loss = -torch.log(prob) * R\n",
    "            loss.backward()\n",
    "        self.optimizer.step()\n",
    "        self.data = []"
   ]
  },
  {
   "cell_type": "markdown",
   "metadata": {},
   "source": [
    "Cartpole 환경에서 Reinforce 알고리즘을 학습시킵니다. \n",
    "\n",
    "학습에 시간이 조금 소요됩니다.\n",
    "\n",
    "### [TODO] 환경에 적용할 제어 입력 a를 구합니다. 제어 정책의 출력을 카테고리 데이터로 변환한 변수에서 샘플링을 진행하여 획득할 수 있습니다."
   ]
  },
  {
   "cell_type": "code",
   "execution_count": null,
   "metadata": {},
   "outputs": [],
   "source": [
    "env = gym.make('CartPole-v1')\n",
    "pi = Policy()\n",
    "score = 0.0\n",
    "print_interval = 20\n",
    "\n",
    "\n",
    "for n_epi in range(5000):\n",
    "    s, _ = env.reset(seed=random_seed)\n",
    "    done = False\n",
    "    \n",
    "    while not done: # CartPole-v1 forced to terminates at 500 step.\n",
    "        prob = pi(torch.from_numpy(s).float())\n",
    "        m = Categorical(prob)\n",
    "        a = None\n",
    "        s_prime, r, done, truncated, info = env.step(a.item())\n",
    "        pi.put_data((r,prob[a]))\n",
    "        s = s_prime\n",
    "        score += r\n",
    "        \n",
    "    pi.train_net()\n",
    "    \n",
    "    if n_epi%print_interval==0 and n_epi!=0:\n",
    "        print(\"# of episode :{}, avg score : {}\".format(n_epi, score/print_interval))\n",
    "        score = 0.0\n",
    "env.close()"
   ]
  },
  {
   "cell_type": "markdown",
   "metadata": {},
   "source": [
    "학습이 완료된 모델을 이용해 테스트해보겠습니다."
   ]
  },
  {
   "cell_type": "code",
   "execution_count": null,
   "metadata": {},
   "outputs": [],
   "source": [
    "pi.eval()\n",
    "env_cartpole = gym.make('CartPole-v1', render_mode='rgb_array')\n",
    "s, _ = env_cartpole.reset(seed=random_seed)\n",
    "\n",
    "num_steps = 200\n",
    "\n",
    "episode_reward = 0\n",
    "for step in range(num_steps):\n",
    "\n",
    "    prob = pi(torch.from_numpy(s).float())\n",
    "    a = prob.argmax().item()  # Select the action with the highest probability\n",
    "    s, r, done, truncated, info = env_cartpole.step(a)\n",
    "\n",
    "    # Render the environment\n",
    "    render_env(env_cartpole)\n",
    "\n",
    "env_cartpole.close()"
   ]
  },
  {
   "cell_type": "markdown",
   "metadata": {},
   "source": [
    "Cartpole 모델은 제어 입력 공간이 이산화되어 있습니다 (왼쪽 혹은 오른쪽). 따라서 기본적인 Reinforce 알고리즘도 잘 작동하는 것을 볼 수 있습니다."
   ]
  },
  {
   "cell_type": "markdown",
   "metadata": {},
   "source": [
    "---\n",
    "## 5. Actor-Critic 강화학습 알고리즘 적용\n",
    "\n",
    "---\n",
    "### 5.1 Actor-Critic  알고리즘 구현\n",
    "\n",
    "강화학습에서 가장 기본으로 사용되는 라이브러리인 pytorch를 이용해 Actor-Critic  알고리즘을 구현해보겠습니다."
   ]
  },
  {
   "cell_type": "code",
   "execution_count": null,
   "metadata": {},
   "outputs": [],
   "source": [
    "#Hyperparameters\n",
    "learning_rate = 0.0002\n",
    "gamma         = 0.98\n",
    "n_rollout     = 10\n",
    "\n",
    "class ActorCritic(nn.Module):\n",
    "    def __init__(self):\n",
    "        super(ActorCritic, self).__init__()\n",
    "        self.data = []\n",
    "        \n",
    "        self.fc1 = nn.Linear(4,256)\n",
    "        self.fc_pi = nn.Linear(256,2)\n",
    "        self.fc_v = nn.Linear(256,1)\n",
    "        self.optimizer = optim.Adam(self.parameters(), lr=learning_rate)\n",
    "        \n",
    "    def pi(self, x, softmax_dim = 0):\n",
    "        x = F.relu(self.fc1(x))\n",
    "        x = self.fc_pi(x)\n",
    "        prob = F.softmax(x, dim=softmax_dim)\n",
    "        return prob\n",
    "    \n",
    "    def v(self, x):\n",
    "        x = F.relu(self.fc1(x))\n",
    "        v = self.fc_v(x)\n",
    "        return v\n",
    "    \n",
    "    def put_data(self, transition):\n",
    "        self.data.append(transition)\n",
    "        \n",
    "    def make_batch(self):\n",
    "        s_lst, a_lst, r_lst, s_prime_lst, done_lst = [], [], [], [], []\n",
    "        for transition in self.data:\n",
    "            s,a,r,s_prime,done = transition\n",
    "            s_lst.append(s)\n",
    "            a_lst.append([a])\n",
    "            r_lst.append([r/100.0])\n",
    "            s_prime_lst.append(s_prime)\n",
    "            done_mask = 0.0 if done else 1.0\n",
    "            done_lst.append([done_mask])\n",
    "        \n",
    "        s_batch, a_batch, r_batch, s_prime_batch, done_batch = torch.tensor(s_lst, dtype=torch.float), torch.tensor(a_lst), \\\n",
    "                                                               torch.tensor(r_lst, dtype=torch.float), torch.tensor(s_prime_lst, dtype=torch.float), \\\n",
    "                                                               torch.tensor(done_lst, dtype=torch.float)\n",
    "        self.data = []\n",
    "        return s_batch, a_batch, r_batch, s_prime_batch, done_batch\n",
    "  \n",
    "    def train_net(self):\n",
    "        s, a, r, s_prime, done = self.make_batch()\n",
    "        td_target = r + gamma * self.v(s_prime) * done\n",
    "        delta = td_target - self.v(s)\n",
    "        \n",
    "        pi = self.pi(s, softmax_dim=1)\n",
    "        pi_a = pi.gather(1,a)\n",
    "        loss = -torch.log(pi_a) * delta.detach() + F.smooth_l1_loss(self.v(s), td_target.detach())\n",
    "\n",
    "        self.optimizer.zero_grad()\n",
    "        loss.mean().backward()\n",
    "        self.optimizer.step()         "
   ]
  },
  {
   "cell_type": "markdown",
   "metadata": {},
   "source": [
    "---\n",
    "### 5.2 Cartpole에 적용\n",
    "\n",
    "강화학습에서 가장 기본으로 사용되는 라이브러리인 pytorch를 이용해 Actor-Critic  알고리즘을 구현해보겠습니다.\n",
    "\n",
    "Actor-Critic 알고리즘을 이용해 Cartpole 환경을 학습시켜보겠습니다.\n",
    "\n",
    "학습에 시간이 조금 소요됩니다."
   ]
  },
  {
   "cell_type": "code",
   "execution_count": null,
   "metadata": {},
   "outputs": [],
   "source": [
    "env = gym.make('CartPole-v1')\n",
    "model = ActorCritic()    \n",
    "print_interval = 20\n",
    "score = 0.0\n",
    "\n",
    "for n_epi in range(2000):\n",
    "    done = False\n",
    "    s, _ = env.reset(seed=random_seed)\n",
    "    while not done:\n",
    "        for t in range(n_rollout):\n",
    "            prob = model.pi(torch.from_numpy(s).float())\n",
    "            m = Categorical(prob)\n",
    "            a = m.sample().item()\n",
    "            s_prime, r, done, truncated, info = env.step(a)\n",
    "            model.put_data((s,a,r,s_prime,done))\n",
    "            \n",
    "            s = s_prime\n",
    "            score += r\n",
    "            \n",
    "            if done:\n",
    "                break                     \n",
    "        \n",
    "        model.train_net()\n",
    "        \n",
    "    if n_epi%print_interval==0 and n_epi!=0:\n",
    "        print(\"# of episode :{}, avg score : {:.1f}\".format(n_epi, score/print_interval))\n",
    "        score = 0.0\n",
    "env.close()"
   ]
  },
  {
   "cell_type": "markdown",
   "metadata": {},
   "source": [
    "학습된 모델을 이용해 Cartpole을 제어해보겠습니다."
   ]
  },
  {
   "cell_type": "code",
   "execution_count": null,
   "metadata": {},
   "outputs": [],
   "source": [
    "\n",
    "pi.eval()\n",
    "env_cartpole = gym.make('CartPole-v1', render_mode='rgb_array')\n",
    "s, _ = env_cartpole.reset(seed=random_seed)\n",
    "\n",
    "num_steps = 200\n",
    "\n",
    "episode_reward = 0\n",
    "for step in range(num_steps):\n",
    "\n",
    "    prob = pi(torch.from_numpy(s).float())\n",
    "    a = prob.argmax().item()  # Select the action with the highest probability\n",
    "    s, r, done, truncated, info = env_cartpole.step(a)\n",
    "\n",
    "    # Render the environment\n",
    "    render_env(env_cartpole)\n",
    "\n",
    "env_cartpole.close()"
   ]
  },
  {
   "cell_type": "markdown",
   "metadata": {},
   "source": [
    "---\n",
    "## 6. A2C 강화학습 알고리즘 적용\n",
    "\n",
    "---\n",
    "### 6.1 A2C  알고리즘 구현\n",
    "\n",
    "Actor-critic에서 향상된 알고리즘인 A2C 알고리즘을 구현해보겠습니다."
   ]
  },
  {
   "cell_type": "code",
   "execution_count": null,
   "metadata": {},
   "outputs": [],
   "source": [
    "from torch.autograd import Variable\n",
    "\n",
    "# Hyper Parameters\n",
    "STATE_DIM = 4\n",
    "ACTION_DIM = 2\n",
    "STEP = 2000\n",
    "SAMPLE_NUMS = 30\n",
    "\n",
    "\n",
    "class ActorNetwork(nn.Module):\n",
    "\n",
    "    def __init__(self,input_size,hidden_size,action_size):\n",
    "        super(ActorNetwork, self).__init__()\n",
    "        self.fc1 = nn.Linear(input_size,hidden_size)\n",
    "        self.fc2 = nn.Linear(hidden_size,hidden_size)\n",
    "        self.fc3 = nn.Linear(hidden_size,action_size)\n",
    "\n",
    "    def forward(self,x):\n",
    "        out = F.relu(self.fc1(x))\n",
    "        out = F.relu(self.fc2(out))\n",
    "        out = F.log_softmax(self.fc3(out))\n",
    "        return out\n",
    "\n",
    "class ValueNetwork(nn.Module):\n",
    "\n",
    "    def __init__(self,input_size,hidden_size,output_size):\n",
    "        super(ValueNetwork, self).__init__()\n",
    "        self.fc1 = nn.Linear(input_size,hidden_size)\n",
    "        self.fc2 = nn.Linear(hidden_size,hidden_size)\n",
    "        self.fc3 = nn.Linear(hidden_size,output_size)\n",
    "\n",
    "    def forward(self,x):\n",
    "        out = F.relu(self.fc1(x))\n",
    "        out = F.relu(self.fc2(out))\n",
    "        out = self.fc3(out)\n",
    "        return out\n",
    "\n",
    "def roll_out(actor_network,task,sample_nums,value_network,init_state):\n",
    "    #task.reset()\n",
    "    states = []\n",
    "    actions = []\n",
    "    rewards = []\n",
    "    is_done = False\n",
    "    final_r = 0\n",
    "    state = init_state\n",
    "\n",
    "    for j in range(sample_nums):\n",
    "        states.append(state)\n",
    "        log_softmax_action = actor_network(Variable(torch.Tensor([state])))\n",
    "        softmax_action = torch.exp(log_softmax_action)\n",
    "        action = np.random.choice(ACTION_DIM,p=softmax_action.cpu().data.numpy()[0])\n",
    "        one_hot_action = [int(k == action) for k in range(ACTION_DIM)]\n",
    "        next_state,reward,done,_,_ = task.step(action)\n",
    "        #fix_reward = -10 if done else 1\n",
    "        actions.append(one_hot_action)\n",
    "        rewards.append(reward)\n",
    "        final_state = next_state\n",
    "        state = next_state\n",
    "        if done:\n",
    "            is_done = True\n",
    "            state, _ = task.reset(seed=random_seed)\n",
    "            break\n",
    "    if not is_done:\n",
    "        final_r = value_network(Variable(torch.Tensor([final_state]))).cpu().data.numpy()\n",
    "\n",
    "    return states,actions,rewards,final_r,state\n",
    "\n",
    "def discount_reward(r, gamma,final_r):\n",
    "    discounted_r = np.zeros_like(r)\n",
    "    running_add = final_r\n",
    "    for t in reversed(range(0, len(r))):\n",
    "        running_add = running_add * gamma + r[t]\n",
    "        discounted_r[t] = running_add\n",
    "    return discounted_r"
   ]
  },
  {
   "cell_type": "markdown",
   "metadata": {},
   "source": [
    "---\n",
    "### 6.2 Cartpole에 적용\n",
    "\n",
    "A2C 알고리즘을 이용해 Cartpole 환경을 학습시켜보겠습니다.\n",
    "\n",
    "알고리즘의 병렬 처리 설계 덕분에 학습 시간이 매우 빠릅니다."
   ]
  },
  {
   "cell_type": "code",
   "execution_count": null,
   "metadata": {},
   "outputs": [],
   "source": [
    "\n",
    "\n",
    "# init a task generator for data fetching\n",
    "task = gym.make(\"CartPole-v1\")\n",
    "init_state, _ = task.reset(seed=random_seed)\n",
    "\n",
    "# init value network\n",
    "value_network = ValueNetwork(input_size = STATE_DIM,hidden_size = 40,output_size = 1)\n",
    "value_network_optim = torch.optim.Adam(value_network.parameters(),lr=0.01)\n",
    "\n",
    "# init actor network\n",
    "actor_network = ActorNetwork(STATE_DIM,40,ACTION_DIM)\n",
    "actor_network_optim = torch.optim.Adam(actor_network.parameters(),lr = 0.01)\n",
    "\n",
    "steps =[]\n",
    "task_episodes =[]\n",
    "test_results =[]\n",
    "\n",
    "for step in range(STEP):\n",
    "    states,actions,rewards,final_r,current_state = roll_out(actor_network,task,SAMPLE_NUMS,value_network,init_state)\n",
    "    init_state = current_state\n",
    "    actions_var = Variable(torch.Tensor(actions).view(-1,ACTION_DIM))\n",
    "    states_var = Variable(torch.Tensor(states).view(-1,STATE_DIM))\n",
    "\n",
    "    # train actor network\n",
    "    actor_network_optim.zero_grad()\n",
    "    log_softmax_actions = actor_network(states_var)\n",
    "    vs = value_network(states_var).detach()\n",
    "    # calculate qs\n",
    "    qs = Variable(torch.Tensor(discount_reward(rewards,0.99,final_r)))\n",
    "\n",
    "    advantages = qs - vs\n",
    "    actor_network_loss = - torch.mean(torch.sum(log_softmax_actions*actions_var,1)* advantages)\n",
    "    actor_network_loss.backward()\n",
    "    torch.nn.utils.clip_grad_norm(actor_network.parameters(),0.5)\n",
    "    actor_network_optim.step()\n",
    "\n",
    "    # train value network\n",
    "    value_network_optim.zero_grad()\n",
    "    target_values = qs\n",
    "    values = value_network(states_var)\n",
    "    criterion = nn.MSELoss()\n",
    "    value_network_loss = criterion(values,target_values)\n",
    "    value_network_loss.backward()\n",
    "    torch.nn.utils.clip_grad_norm(value_network.parameters(),0.5)\n",
    "    value_network_optim.step()\n",
    "\n",
    "    # Testing\n",
    "    if (step + 1) % 50== 0:\n",
    "            result = 0\n",
    "            test_task = gym.make(\"CartPole-v0\")\n",
    "            for test_epi in range(10):\n",
    "                state, _ = test_task.reset(seed=random_seed)\n",
    "                for test_step in range(200):\n",
    "                    softmax_action = torch.exp(actor_network(Variable(torch.Tensor([state]))))\n",
    "                    #print(softmax_action.data)\n",
    "                    action = np.argmax(softmax_action.data.numpy()[0])\n",
    "                    next_state,reward,done,_,_ = test_task.step(action)\n",
    "                    result += reward\n",
    "                    state = next_state\n",
    "                    if done:\n",
    "                        break\n",
    "            print(\"step:\",step+1,\"test result:\",result/10.0)\n",
    "            steps.append(step+1)\n",
    "            test_results.append(result/10)"
   ]
  },
  {
   "cell_type": "markdown",
   "metadata": {},
   "source": [
    "학습된 모델을 이용해 Cartpole을 제어해보겠습니다.\n",
    "\n",
    "### [TODO] Cartpole 환경을 시각화하는 코드를 완성해주세요. "
   ]
  },
  {
   "cell_type": "code",
   "execution_count": null,
   "metadata": {},
   "outputs": [],
   "source": [
    "\n",
    "env_cartpole = gym.make('CartPole-v1', render_mode='rgb_array')\n",
    "s, _ = env_cartpole.reset(seed=random_seed)\n",
    "\n",
    "num_steps = 200\n",
    "\n",
    "episode_reward = 0\n",
    "for step in range(num_steps):\n",
    "    \n",
    "    #s = torch.from_numpy(s).float()\n",
    "    a = torch.exp(actor_network(Variable(torch.Tensor([s]))))\n",
    "    a = np.argmax(a.data.numpy()[0])  \n",
    "    s, r, done, truncated, info = env_cartpole.step(a.item())\n",
    "\n",
    "    # Render the environment\n",
    "    None\n",
    "env_cartpole.close()"
   ]
  }
 ],
 "metadata": {
  "kernelspec": {
   "display_name": "base",
   "language": "python",
   "name": "python3"
  },
  "language_info": {
   "codemirror_mode": {
    "name": "ipython",
    "version": 3
   },
   "file_extension": ".py",
   "mimetype": "text/x-python",
   "name": "python",
   "nbconvert_exporter": "python",
   "pygments_lexer": "ipython3",
   "version": "3.9.16"
  },
  "orig_nbformat": 4
 },
 "nbformat": 4,
 "nbformat_minor": 2
}
