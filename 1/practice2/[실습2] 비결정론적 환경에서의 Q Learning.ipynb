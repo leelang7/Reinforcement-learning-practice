{
 "cells": [
  {
   "cell_type": "markdown",
   "metadata": {},
   "source": [
    "# [실습2] 비결정론적 시뮬레이션 환경을 활용한 Q-Learning 실습\n",
    "\n",
    "이번 실습에서는 간단한 비결정론적 시뮬레이션 환경을 활용하여 Q-Learning을 직접 구현해보도록 하겠습니다. <br>\n",
    "\n",
    "비결정론적인 환경이란, 에이전트가 특정한 행동을 취했을 때 그에 따른 다음 상태와 보상이 **하나로 결정되지 않고** 확률에 따라 정해지는 환경을 의미합니다.\n",
    "\n",
    "### 라이브러리 불러오기\n",
    "\n",
    "필요한 라이브러리를 불러옵니다."
   ]
  },
  {
   "cell_type": "code",
   "execution_count": null,
   "metadata": {},
   "outputs": [],
   "source": [
    "# 필요한 라이브러리를 불러옵니다.\n",
    "import gymnasium as gym\n",
    "import numpy as np\n",
    "import pandas as pd\n",
    "\n",
    "# 학습을 완료한 에이전트를 시각화하는데 필요한 라이브러리를 불러옵니다\n",
    "from IPython import display # IPython 라이브러리에 있는 display 모듈을 사용합니다.\n",
    "import matplotlib.pyplot as plt\n",
    "import matplotlib.animation as animation\n",
    "from IPython.display import HTML\n",
    "\n",
    "# Epsilon-Greedy 를 적용하기 위한 random 모듈을 불러옵니다.\n",
    "import random"
   ]
  },
  {
   "cell_type": "markdown",
   "metadata": {},
   "source": [
    "## 1. FrozenLake 시뮬레이션 환경\n",
    "\n",
    "미끄러운 얼음 호수 위에서 정해진 위치에 Agent와 목적지가 주어지면 목적지까지 Agent를 이동시키는 간단한 시뮬레이션 환경입니다. <br>\n",
    "얼음 호수는 미끄럽기 때문에 걷고자 하는 방향으로 나아가기 쉽지 않고, 때로는 의도치 않은 방향으로 이동할 수 있습니다. 이 성질을 활용해 비결정론적 시뮬레이션 환경을 구현할 수 있습니다.\n",
    "\n",
    "![FrozenLake](./images/FrozenLake_v1.gif)\n",
    "\n",
    "\n",
    "Environment는 다음과 같이 정의됩니다.\n",
    "\n",
    "- 가능한 모든 상태 집합 S = Agent의 위치 (4x4 격자)\n",
    "- 가능한 행동 집합 A = {상, 하, 좌, 우}\n",
    "- 전이 함수 P: 행동을 그대로 수행할 가능성: 1/3, **의도한 방향의 수직인 방향으로 이동할 가능성(미끄러질 가능성): 양 방향으로 각각 1/3**\n",
    "- 보상 함수 R: 목적지에 도착하면 1, 그 외의 경우 0 (구멍에 빠진 경우 포함)\n",
    "- 감가율 γ (gamma) = 0.99 (FrozenLake 환경의 자체 설정이 아니라, 임의로 설정한 값입니다)\n",
    "\n",
    "Taxi-v3 환경과 달리 Slippery Frozen Lake 환경에서는 전이 함수 P가 **결정론적이지 않습니다.** (같은 환경에서 같은 행동을 취하더라도, 확률에 따라 다른 상태로 이동할 수 있습니다.)\n",
    "\n",
    "FrozenLake 환경은 Taxi-v3 환경과 달리 **목적지에 도착했을 때만 보상 혹은 페널티가 주어지는** 환경입니다. \n"
   ]
  },
  {
   "cell_type": "markdown",
   "metadata": {},
   "source": [
    "FrozenLake-v1 환경을 불러옵니다."
   ]
  },
  {
   "cell_type": "code",
   "execution_count": null,
   "metadata": {},
   "outputs": [],
   "source": [
    "# 'FrozenLake-v1' 환경을 생성합니다.\n",
    "env = gym.make('FrozenLake-v1', desc=None, map_name=\"4x4\", is_slippery=True)"
   ]
  },
  {
   "cell_type": "code",
   "execution_count": null,
   "metadata": {},
   "outputs": [],
   "source": [
    "# 학습 과정에서 생성할 Q-Table의 크기를 확인합니다. Envirionment의 상태(State)의 개수는 16개이며, Action의 개수는 4개입니다.\n",
    "print([env.observation_space.n, env.action_space.n])"
   ]
  },
  {
   "cell_type": "markdown",
   "metadata": {},
   "source": [
    "## 2. 학습 환경 구축\n",
    "\n",
    "Agent가 이동하는 과정에서 주어지는 보상 혹은 페널티가 사라짐에 따라 Agent가 환경을 탐험할 요인이 상대적으로 줄어들게 됩니다. \n",
    "\n",
    "이러한 환경에서 탐험을 촉진하기 위해 Epsilon-greedy를 적용한 Q-Learning을 구현해 보겠습니다."
   ]
  },
  {
   "cell_type": "markdown",
   "metadata": {},
   "source": [
    "먼저 학습 파라미터를 설정합니다."
   ]
  },
  {
   "cell_type": "code",
   "execution_count": null,
   "metadata": {},
   "outputs": [],
   "source": [
    "# 학습 파라미터를 설정합니다.\n",
    "learning_rate = 0.1 # 학습률 eta\n",
    "gamma = 0.99 # 감가율\n",
    "num_episodes = 150000 # 에피소드 수\n",
    "max_steps = 100 # 각 에피소드 별 최대 스텝 수\n",
    "\n",
    "# Epsilon-Greedy 알고리즘을 위한 학습 파라미터를 설정합니다. \n",
    "# 시작에는 Q 함수를 무시한 채 탐험할 확률이 높으나(epsilon_start), 점점 정해진 감가율 (epsilon_decay) 에 따라 Q 함수를 무시한 채 랜덤한 행동을 선택할 확률을 하한선까지(epsilon_end) 낮춥니다.\n",
    "epsilon_start = 0.5\n",
    "epsilon_end = 0.001\n",
    "epsilon_decay = 0.005 # 입실론 감가율"
   ]
  },
  {
   "cell_type": "markdown",
   "metadata": {},
   "source": [
    "아래 코드는 Epsilon-greedy를 **적용하지 않은 학습 함수**입니다. 이 함수로 학습한 Q-Table을 차후 Epsilon-greedy를 적용한 학습을 거친 Q-Table과 비교하여 차이를 확인해 볼 것입니다."
   ]
  },
  {
   "cell_type": "code",
   "execution_count": null,
   "metadata": {},
   "outputs": [],
   "source": [
    "# 환경과 학습 파라미터를 입력 받으면 Q-Table을 학습하여 리턴하는 함수를 정의합니다.\n",
    "def Q_learning(env, gamma, learning_rate, num_episodes, max_steps, Q_table = None):\n",
    "    \n",
    "    # 파라미터로 Q_table이 주어질 경우 그를 바탕으로 학습을 진행합니다.\n",
    "    if Q_table is None: \n",
    "        Q = np.ones([env.observation_space.n, env.action_space.n])\n",
    "    else:\n",
    "        Q = Q_table\n",
    "    \n",
    "    # 에피소드별 총 보상과 스텝을 저장할 리스트를 생성합니다.\n",
    "    rList = []\n",
    "    for i in range(num_episodes):\n",
    "    # 환경을 초기화하고 첫 번째 새로운 관찰을 얻습니다.\n",
    "        state = env.reset()[0]\n",
    "        rAll = 0\n",
    "        done = False\n",
    "        # Q-Table 학습 알고리즘\n",
    "        for j in range(max_steps):\n",
    "            # 현재 상태(state)를 바탕으로 Q-Table에서 행동을 결정합니다.\n",
    "            action = np.argmax(Q[state,:])\n",
    "            \n",
    "            # 환경에서 새로운 상태와 보상을 얻습니다.\n",
    "            next_state, reward, done, _, _ = env.step(action)\n",
    "            \n",
    "            # 오차를 계산합니다. (y = 감가율)\n",
    "            error = reward + gamma * np.max(Q[next_state,:]) - Q[state,action]\n",
    "\n",
    "            # 오차를 기반으로 Q-Table을 업데이트합니다.\n",
    "            Q[state,action] = Q[state,action] + learning_rate * error\n",
    "            rAll += reward\n",
    "            state = next_state\n",
    "            if done == True:\n",
    "                break\n",
    "        \n",
    "        # 에피소드별 총 보상을 리스트에 저장합니다.\n",
    "        rList.append(rAll)      \n",
    "    \n",
    "    # 학습된 Q-Table을 리턴합니다.\n",
    "    return Q, rList"
   ]
  },
  {
   "cell_type": "markdown",
   "metadata": {},
   "source": [
    "### [TODO] Epsilon-greedy 기법을 적용한 학습 함수를 정의합니다.\n",
    "- 위의 함수를 참고하여, Epsilon-greedy 기법을 적용한 학습 함수를 정의합니다."
   ]
  },
  {
   "cell_type": "code",
   "execution_count": null,
   "metadata": {},
   "outputs": [],
   "source": [
    "# 환경과 학습 파라미터를 입력 받으면 Q-Table을 학습하여 리턴하는 함수를 정의합니다.\n",
    "def Q_learning_epsilon(env, gamma, learning_rate, num_episodes, max_steps, Q_table = None, epsilon_start = 0.5, epsilon_end = 0.01, epsilon_decay = 0.005):\n",
    "\n",
    "    # epsilon 값을 초기화 합니다.\n",
    "    epsilon = epsilon_start\n",
    "    \n",
    "    # 파라미터로 Q_table이 주어질 경우 그를 바탕으로 학습을 진행합니다.\n",
    "    if Q_table is None:\n",
    "        # Q-Table을 초기화합니다.\n",
    "        Q = np.ones([env.observation_space.n, env.action_space.n])\n",
    "    else:\n",
    "        Q = Q_table\n",
    "    \n",
    "    # 에피소드별 총 보상과 스텝을 저장할 리스트를 생성합니다.\n",
    "    rList = []\n",
    "    for i in range(num_episodes):\n",
    "        # TODO: Epsilon-Greedy를 위한 epsilon 값을 계산합니다.\n",
    "        # epsilon 값이 epsilon_end 보다 작아지지 않도록 합니다. \n",
    "        # Hint: max() 함수를 사용하여 두 값 중 큰 값을 선택할 수 있습니다.\n",
    "        epsilon = None # None을 올바른 코드로 대체해 주세요.\n",
    "\n",
    "        # 환경을 초기화하고 첫 번째 새로운 관찰을 얻습니다.\n",
    "        state = env.reset()[0]\n",
    "        rAll = 0\n",
    "        done = False\n",
    "        # Q-Table 학습 알고리즘\n",
    "        for j in range(max_steps):\n",
    "            # TODO: epsilon 확률로 랜덤한 액션을 선택하고, 그렇지 않은 경우 Q-Table을 바탕으로 액션을 선택합니다.\n",
    "            # Hint. random.random()을 사용하여 0~1 사이의 랜덤한 값을 생성할 수 있습니다.\n",
    "            condition = None # None을 올바른 조건으로 대체해주세요.\n",
    "            if condition:\n",
    "                # TODO: 현재 상태(state)를 바탕으로 Q-Table에서 행동을 결정해서 action 변수에 저장합니다.\n",
    "                # Hint: Q[S,:]는 현재 상태가 S일 때 각 행동에 대한 Q 값을 담고 있는 list를 나타냅니다.\n",
    "                action = None # None을 올바른 코드로 대체해 주세요.\n",
    "            else:\n",
    "                # random 값이 epsilon보다 작을 경우 : 랜덤하게 action을 선정합니다.\n",
    "                action = env.action_space.sample()\n",
    "            \n",
    "            # 환경에서 새로운 상태와 보상을 얻습니다.\n",
    "            next_state, reward, done, _, _ = env.step(action)\n",
    "            \n",
    "            # TODO: 오차를 계산해서 error 변수에 저장합니다. (gamma = 감가율)\n",
    "            # Hint: 오차 = 보상 + 감가율 * (다음 상태에서의 최대 Q 값) - (현재 상태에서의 Q 값)\n",
    "            error = None # None을 올바른 코드로 대체해 주세요.\n",
    "\n",
    "            # TODO: 오차(error)를 기반으로 Q-Table을 업데이트합니다.\n",
    "            # Hint: Q[S,A] ← Q[S,A] + 학습률 * 오차\n",
    "            Q[state,action] = None # None을 올바른 코드로 대체해 주세요.\n",
    "            rAll += reward\n",
    "            state = next_state\n",
    "            if done == True:\n",
    "                break\n",
    "\n",
    "        # TODO: Epsilon 값을 업데이트하는 코드를 짜주세요\n",
    "        # Hint. epsilon ← epsilon * (1 - epsilon 감가율)\n",
    "        epsilon = None # None을 올바른 코드로 대체해 주세요.\n",
    "        \n",
    "        # 에피소드별 총 보상을 리스트에 저장합니다.\n",
    "        rList.append(rAll)      \n",
    "    \n",
    "    # 학습된 Q-Table을 리턴합니다.\n",
    "    return Q, rList"
   ]
  },
  {
   "cell_type": "markdown",
   "metadata": {},
   "source": [
    "## 3. 학습 진행\n",
    "\n",
    "학습을 진행합니다. 학습에는 약 2분이 소요됩니다."
   ]
  },
  {
   "cell_type": "code",
   "execution_count": null,
   "metadata": {},
   "outputs": [],
   "source": [
    "# Epsilon-greedy 를 적용하지 않은 경우 (약 20초 소요)\n",
    "Q, rList = Q_learning(env, gamma, learning_rate, num_episodes, max_steps)"
   ]
  },
  {
   "cell_type": "code",
   "execution_count": null,
   "metadata": {},
   "outputs": [],
   "source": [
    "# Epsilon-greedy 를 적용한 경우 (약 2분 소요)\n",
    "Q_ep, rList_ep = Q_learning_epsilon(env, gamma, learning_rate, num_episodes, max_steps, epsilon_start=epsilon_start, epsilon_end=epsilon_end, epsilon_decay=epsilon_decay)"
   ]
  },
  {
   "cell_type": "markdown",
   "metadata": {},
   "source": [
    "rList 리스트에는 각 에피소드에서 얻은 reward가 저장됩니다. 이를 통해 학습이 진행됨에 따라 얻는 reward가 어떻게 변화하는지 확인할 수 있습니다.\n",
    "\n",
    "rList를 시각화 해봅시다. 이때, 100 episode 단위로 평균을 계산하여 시각화합니다."
   ]
  },
  {
   "cell_type": "code",
   "execution_count": null,
   "metadata": {},
   "outputs": [],
   "source": [
    "# rList를 시각화합니다.\n",
    "# 100개 episode 단위로 평균을 계산합니다.\n",
    "rList_100 = []\n",
    "for i in range(0, len(rList), 100):\n",
    "    rList_100.append(sum(rList[i:i+100])/100)\n",
    "\n",
    "rList_ep_100 = []\n",
    "for i in range(0, len(rList_ep), 100):\n",
    "    rList_ep_100.append(sum(rList_ep[i:i+100])/100)\n",
    "\n",
    "plt.plot(rList_ep_100)\n",
    "plt.plot(rList_100)\n",
    "plt.xlabel('Episode (x100)')\n",
    "plt.ylabel('Reward')\n",
    "plt.legend(['Epsilon-Greedy', 'Greedy'])\n",
    "plt.show()"
   ]
  },
  {
   "cell_type": "markdown",
   "metadata": {},
   "source": [
    "Epsilon-greedy를 적용한 Agent는 어느 순간부터 Reward의 평균이 증가하는 추세를 보일 것입니다. "
   ]
  },
  {
   "cell_type": "markdown",
   "metadata": {},
   "source": [
    "## 4. 결과 시각화"
   ]
  },
  {
   "cell_type": "markdown",
   "metadata": {},
   "source": [
    "학습 완료한 Q-Table을 출력하는 visualize_Q 함수를 정의합니다."
   ]
  },
  {
   "cell_type": "code",
   "execution_count": null,
   "metadata": {},
   "outputs": [],
   "source": [
    "def visualize_Q(Q):\n",
    "    dirs = ['◁','▽','▷','△']\n",
    "    for row in range(4):\n",
    "        txt = ''\n",
    "        for col in range(4):\n",
    "            # 각 위치에서의 Maximum Q-value의 방향 출력\n",
    "            txt += dirs[np.argmax(Q[row*4+col,:])]\n",
    "        print(txt)"
   ]
  },
  {
   "cell_type": "markdown",
   "metadata": {},
   "source": [
    "Epsilon-greedy 기법을 적용한 학습 함수를 통해 학습한 Q-Table과, 적용하지 않은 학습 함수를 통해 학습한 Q-Table을 비교해봅시다."
   ]
  },
  {
   "cell_type": "code",
   "execution_count": null,
   "metadata": {},
   "outputs": [],
   "source": [
    "visualize_Q(Q)"
   ]
  },
  {
   "cell_type": "code",
   "execution_count": null,
   "metadata": {},
   "outputs": [],
   "source": [
    "visualize_Q(Q_ep)"
   ]
  },
  {
   "attachments": {
    "image.png": {
     "image/png": "[encoded data removed]"
    }
   },
   "cell_type": "markdown",
   "metadata": {},
   "source": [
    "![image.png](attachment:image.png)"
   ]
  },
  {
   "cell_type": "markdown",
   "metadata": {},
   "source": [
    "Q-Table 시각화 결과만 보면 Epsilon-greedy를 적용하지 않은 모델이 더 직관적인 것 처럼 보입니다. <br>\n",
    "하지만, 전이 함수의 특징을 생각해보면 Q-Table의 시각화 결과를 그대로 따를 경우 미끄러져 딴 길로 새거나 구멍에 빠질 확률이 오히려 높음을 알 수 있습니다.\n",
    "- 전이 함수 P: 행동을 그대로 수행할 가능성: 1/3, **의도한 방향의 수직인 방향으로 이동할 가능성(미끄러질 가능성): 양 방향으로 각각 1/3**"
   ]
  },
  {
   "cell_type": "markdown",
   "metadata": {},
   "source": [
    "결과를 시각화하기 위해, 입력 받은 Q-Table을 적용한 Agent를 정해진 환경에서 시뮬레이팅 하는 함수를 정의합니다."
   ]
  },
  {
   "cell_type": "code",
   "execution_count": null,
   "metadata": {},
   "outputs": [],
   "source": [
    "def simulate_Q(Q):\n",
    "    # 테스트 및 시각화를 위해 시각화 가능한 새로운 환경을 생성합니다.\n",
    "    env_test = gym.make('FrozenLake-v1', desc=None, map_name=\"4x4\", is_slippery=True, render_mode='rgb_array')\n",
    "    test_seed = 42\n",
    "\n",
    "    state = env_test.reset(seed=test_seed)[0]\n",
    "\n",
    "    # 초기 상태 렌더링\n",
    "    screen = env_test.render()\n",
    "    screen_queue = [screen]\n",
    "\n",
    "    # 최대 100 step까지 시각화합니다.\n",
    "    for i in range(100):\n",
    "        action = np.argmax(Q[state,:])\n",
    "        state, reward, done, truncated, info = env_test.step(action)\n",
    "        screen = env_test.render()\n",
    "        display.clear_output(wait=True)\n",
    "        screen_queue.append(screen)    \n",
    "        if done:        \n",
    "            print(\"{} timesteps 만에 종료되었습니다.\".format(i+1))\n",
    "            break\n",
    "\n",
    "    # env_test를 닫습니다.\n",
    "    env_test.close()\n",
    "\n",
    "    # 시뮬레이션 결과를 시각화하기 위한 정보를 리턴합니다.\n",
    "    return screen_queue   "
   ]
  },
  {
   "cell_type": "markdown",
   "metadata": {},
   "source": [
    "Epsilon-greedy를 적용하지 않은 학습 함수를 통해 학습한 Q-Table을 적용한 Agent의 시뮬레이션을 진행합니다."
   ]
  },
  {
   "cell_type": "code",
   "execution_count": null,
   "metadata": {},
   "outputs": [],
   "source": [
    "screen_queue = simulate_Q(Q)"
   ]
  },
  {
   "cell_type": "markdown",
   "metadata": {},
   "source": [
    "시뮬레이션 결과를 시각화합니다."
   ]
  },
  {
   "cell_type": "code",
   "execution_count": null,
   "metadata": {},
   "outputs": [],
   "source": [
    "fig = plt.figure()\n",
    "ims = []\n",
    "for i in range(len(screen_queue)):\n",
    "    im = plt.imshow(screen_queue[i], animated=True)\n",
    "    ims.append([im])\n",
    "\n",
    "ani = animation.ArtistAnimation(fig, ims, interval=300, blit=True,\n",
    "                                repeat_delay=1000)\n",
    "HTML(ani.to_jshtml())"
   ]
  },
  {
   "cell_type": "markdown",
   "metadata": {},
   "source": [
    "다음으로, Epsilon-greedy를 적용한 함수를 통해 학습한 Q-Table을 적용한 Agent의 시뮬레이션 결과를 시각화합니다.\n",
    "\n",
    "비결정론적인 환경 특성상, 간혹 목적지에 도달하지 못하는 경우도 있습니다. 그럴 경우 아래의 코드 블럭을 다시 실행해주세요."
   ]
  },
  {
   "cell_type": "code",
   "execution_count": null,
   "metadata": {},
   "outputs": [],
   "source": [
    "screen_queue_ep = simulate_Q(Q_ep)\n",
    "\n",
    "# Agent의 경로를 시각화합니다.\n",
    "\n",
    "fig = plt.figure()\n",
    "ims = []\n",
    "for i in range(len(screen_queue_ep)):\n",
    "    im = plt.imshow(screen_queue_ep[i], animated=True)\n",
    "    ims.append([im])\n",
    "\n",
    "ani = animation.ArtistAnimation(fig, ims, interval=300, blit=True, \n",
    "                                repeat_delay=1000)\n",
    "HTML(ani.to_jshtml())"
   ]
  },
  {
   "cell_type": "code",
   "execution_count": null,
   "metadata": {},
   "outputs": [],
   "source": [
    "# 애니메이션을 gif로 저장합니다.\n",
    "ani.save('FrozenLake-v1.gif', writer='Pillow', fps=2)"
   ]
  },
  {
   "cell_type": "markdown",
   "metadata": {},
   "source": [
    "### 결과 제출\n",
    "\n",
    "- 아래 코드를 실행하여 학습을 완료한 Q-Table을 csv 파일로 생성한 뒤, 우측 상단에 있는 보라색 `제출` 버튼을 눌러 제출해주세요.\n",
    "- 채점 환경에서 해당 Q-Table을 적용한 Agent가 목적을 달성하면 성공입니다.\n",
    "- 비결정론적인 환경임을 감안해서 5번 시도한 후 한번도 성공하지 못하면 실패로 간주합니다."
   ]
  },
  {
   "cell_type": "code",
   "execution_count": null,
   "metadata": {},
   "outputs": [],
   "source": [
    "# Q-Table을 csv 파일로 변환하여 제출합니다.\n",
    "df = pd.DataFrame(Q_ep)\n",
    "df.to_csv('frozenlake.csv', index=False, header=False)"
   ]
  },
  {
   "cell_type": "markdown",
   "metadata": {},
   "source": [
    "### 추가 선택 과제\n",
    "\n",
    "- 채점에 포함되지는 않습니다.\n",
    "- 환경을 초기화할 때, map_name 인자로 \"8x8\" 을 넘겨주어 더 어려운 환경을 만들어서 그 위에서 Agent를 학습시켜보세요."
   ]
  }
 ],
 "metadata": {
  "kernelspec": {
   "display_name": "LIDAR",
   "language": "python",
   "name": "python3"
  },
  "language_info": {
   "codemirror_mode": {
    "name": "ipython",
    "version": 3
   },
   "file_extension": ".py",
   "mimetype": "text/x-python",
   "name": "python",
   "nbconvert_exporter": "python",
   "pygments_lexer": "ipython3",
   "version": "3.10.13"
  }
 },
 "nbformat": 4,
 "nbformat_minor": 2
}
